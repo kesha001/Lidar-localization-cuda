{
  "nbformat": 4,
  "nbformat_minor": 0,
  "metadata": {
    "colab": {
      "provenance": []
    },
    "kernelspec": {
      "name": "python3",
      "display_name": "Python 3"
    },
    "language_info": {
      "name": "python"
    },
    "accelerator": "GPU",
    "gpuClass": "standard"
  },
  "cells": [
    {
      "cell_type": "markdown",
      "source": [
        "# Setup"
      ],
      "metadata": {
        "id": "IBMHjPEiFxhL"
      }
    },
    {
      "cell_type": "code",
      "execution_count": 120,
      "metadata": {
        "id": "SclYiuu1E-e3"
      },
      "outputs": [],
      "source": [
        "import time\n",
        "import torch\n",
        "import torch.nn as nn\n",
        "from torch.utils.data import Dataset, DataLoader, random_split\n",
        "from torchvision import transforms\n",
        "from functools import partial\n",
        "import pandas as pd\n",
        "import numpy as np\n",
        "import matplotlib.pyplot as plt"
      ]
    },
    {
      "cell_type": "code",
      "source": [
        "device = torch.device('cuda' if torch.cuda.is_available() else 'cpu')\n",
        "n = torch.cuda.current_device()\n",
        "print(torch.cuda.get_device_name(n))"
      ],
      "metadata": {
        "colab": {
          "base_uri": "https://localhost:8080/"
        },
        "id": "OxMvuMDAFTyU",
        "outputId": "114818eb-8c22-4398-a8c8-5d4541bd0015"
      },
      "execution_count": 3,
      "outputs": [
        {
          "output_type": "stream",
          "name": "stdout",
          "text": [
            "Tesla T4\n"
          ]
        }
      ]
    },
    {
      "cell_type": "markdown",
      "source": [
        "# Preprocessing"
      ],
      "metadata": {
        "id": "SKDyMdKHF2DE"
      }
    },
    {
      "cell_type": "markdown",
      "source": [
        "## Reading from CSV"
      ],
      "metadata": {
        "id": "foYJ-3AXOWX9"
      }
    },
    {
      "cell_type": "code",
      "source": [
        "class LidarDataset(Dataset):\n",
        "  def __init__(self, filename, transform=None):\n",
        "    self.data = pd.read_csv(filename)\n",
        "    self.data.drop(columns=self.data.columns[0], axis=1, inplace=True)\n",
        "    print(self.data.head())\n",
        "    print(f'NaN values: {self.data.isna().sum().sum()}')\n",
        "    self.X = self.data.iloc[1:, 3:].values\n",
        "    self.y = self.data.iloc[1:, :3].values\n",
        "    self.X = torch.tensor(self.X, dtype=torch.float32)\n",
        "    self.y = torch.tensor(self.y, dtype=torch.float32)\n",
        "    self.transform = transform\n",
        "\n",
        "  def __getitem__(self, index):\n",
        "    return self.X[index], self.y[index]\n",
        "\n",
        "  def __len__(self):\n",
        "    return len(self.y)"
      ],
      "metadata": {
        "id": "VSVo2RMqOelS"
      },
      "execution_count": 130,
      "outputs": []
    },
    {
      "cell_type": "markdown",
      "source": [
        "## Normalization"
      ],
      "metadata": {
        "id": "qGSWxzexPef6"
      }
    },
    {
      "cell_type": "code",
      "source": [
        "transform = transforms.Compose([transforms.ToTensor, transforms.Normalize([0.5], [0.5])])"
      ],
      "metadata": {
        "id": "KkBg9RYiPKMy"
      },
      "execution_count": 129,
      "outputs": []
    },
    {
      "cell_type": "code",
      "source": [
        "lidar_dataset = LidarDataset('lidar_data_new.csv', transform=transform)"
      ],
      "metadata": {
        "colab": {
          "base_uri": "https://localhost:8080/"
        },
        "id": "qeAEEhFmnzN8",
        "outputId": "7386eb39-6d70-4fb6-b54f-11dbe0c61313"
      },
      "execution_count": 137,
      "outputs": [
        {
          "output_type": "stream",
          "name": "stdout",
          "text": [
            "       x      y  player_angle  distance_0  distance_1  distance_2  distance_3  \\\n",
            "0  640.0  360.0          -0.1    0.442652    0.440641    0.440786    0.443091   \n",
            "1  640.0  360.0          -0.2    0.643457    0.444199    0.441244    0.440460   \n",
            "2  640.0  360.0          -0.3    0.660114    0.647715    0.638828    0.442253   \n",
            "3  640.0  360.0          -0.4    0.684678    0.666641    0.652628    0.642257   \n",
            "4  640.0  360.0          -0.5    0.501879    0.693849    0.673920    0.658221   \n",
            "\n",
            "   distance_4  distance_5  distance_6  ...  distance_80  distance_81  \\\n",
            "0    0.336859    0.243653    0.202081  ...     0.195712     0.526355   \n",
            "1    0.441827    0.404406    0.276602  ...     0.179170     0.190202   \n",
            "2    0.440535    0.440971    0.443571  ...     0.166742     0.175041   \n",
            "3    0.443671    0.441012    0.440519  ...     0.157397     0.163633   \n",
            "4    0.646314    0.637883    0.441894  ...     0.150468     0.155075   \n",
            "\n",
            "   distance_82  distance_83  distance_84  distance_85  distance_86  \\\n",
            "0     0.556880     0.529587     0.507200     0.700037     0.678870   \n",
            "1     0.509351     0.551274     0.540730     0.516335     0.496361   \n",
            "2     0.185158     0.197538     0.532010     0.552867     0.526294   \n",
            "3     0.171251     0.180535     0.191873     0.514499     0.557695   \n",
            "4     0.160781     0.167771     0.176294     0.186688     0.498543   \n",
            "\n",
            "   distance_87  distance_88  distance_89  \n",
            "0     0.662076     0.649180     0.639834  \n",
            "1     0.687453     0.668835     0.654303  \n",
            "2     0.504503     0.696898     0.676356  \n",
            "3     0.537143     0.513393     0.493960  \n",
            "4     0.537835     0.548959     0.523087  \n",
            "\n",
            "[5 rows x 93 columns]\n",
            "NaN values: 0\n"
          ]
        }
      ]
    },
    {
      "cell_type": "markdown",
      "source": [
        "## Train-Test Split"
      ],
      "metadata": {
        "id": "9LZWYLtYNv8a"
      }
    },
    {
      "cell_type": "code",
      "source": [
        "lidar_train, lidar_test = random_split(lidar_dataset, [0.8, 0.2])\n",
        "train_loader = DataLoader(dataset=lidar_train, batch_size=100, shuffle=True)\n",
        "test_loader = DataLoader(dataset=lidar_test, batch_size=100, shuffle=True)\n",
        "print(f'Training records: {len(train_loader.dataset)} Testing records: {len(test_loader.dataset)}')"
      ],
      "metadata": {
        "colab": {
          "base_uri": "https://localhost:8080/"
        },
        "id": "DKEESzhkNa8R",
        "outputId": "96cfe61c-c9d0-470c-bed0-98db701a3241"
      },
      "execution_count": 138,
      "outputs": [
        {
          "output_type": "stream",
          "name": "stdout",
          "text": [
            "Training records: 2256 Testing records: 563\n"
          ]
        }
      ]
    },
    {
      "cell_type": "markdown",
      "source": [
        "# Model"
      ],
      "metadata": {
        "id": "eK1GXIyfRlNy"
      }
    },
    {
      "cell_type": "code",
      "source": [
        "class SimpleNN(nn.Module):\n",
        "  def __init__(self, input_size, output_size, *layer_size):\n",
        "    super(SimpleNN, self).__init__()\n",
        "    self.relu = nn.ReLU()\n",
        "    self.layers = nn.ModuleList()\n",
        "    self.layers.append(nn.Linear(input_size, layer_size[0]))\n",
        "    for i in range(1, len(layer_size)):\n",
        "      self.layers.append(nn.Linear(layer_size[i-1], layer_size[i]))\n",
        "    self.layers.append(nn.Linear(layer_size[-1], output_size))\n",
        "\n",
        "  def forward(self, x):\n",
        "    for i in range(len(self.layers)):\n",
        "      x = self.layers[i](x)\n",
        "      if i < len(self.layers) - 1:\n",
        "        x = self.relu(x)\n",
        "    return x"
      ],
      "metadata": {
        "id": "H7QlwIYPOIFd"
      },
      "execution_count": 41,
      "outputs": []
    },
    {
      "cell_type": "markdown",
      "source": [
        "# Training and Testing Methods"
      ],
      "metadata": {
        "id": "3NoEsjmSUpCx"
      }
    },
    {
      "cell_type": "code",
      "source": [
        "def test_model(model, criterion, dataloader, gpu=None):\n",
        "  with torch.no_grad():\n",
        "    avg_test_loss = 0\n",
        "    for (x, y) in dataloader:\n",
        "      if (gpu is not None):\n",
        "        x, y = x.to(gpu), y.to(gpu)\n",
        "      preds = model(x)\n",
        "      avg_test_loss += criterion(preds, y)\n",
        "    avg_test_loss /= len(dataloader.dataset)\n",
        "    return avg_test_loss"
      ],
      "metadata": {
        "id": "mhAaO8feXpuo"
      },
      "execution_count": 127,
      "outputs": []
    },
    {
      "cell_type": "code",
      "source": [
        "def train_model(model, optimizer, criterion, epochs, train_loader, test_loader, gpu=None):\n",
        "  time1 = time.time()\n",
        "  train_loss_history, val_loss_history = [], []\n",
        "  for epoch in range(epochs):\n",
        "    epoch_loss = None\n",
        "    for i, (x, y) in enumerate(train_loader):\n",
        "      if (gpu is not None):\n",
        "        x, y = x.to(gpu), y.to(gpu)\n",
        "      preds = model(x)\n",
        "      loss = criterion(preds, y)\n",
        "      optimizer.zero_grad()\n",
        "      loss.backward()\n",
        "      optimizer.step()\n",
        "      epoch_loss = loss.item()\n",
        "    if (epoch + 1) % 100 == 0:\n",
        "      train_loss_history.append(epoch_loss)\n",
        "      val_loss_history.append(test_model(model, criterion, test_loader, gpu))\n",
        "      if (epoch + 1) % 500 == 0:\n",
        "        print(f'Epoch {epoch + 1} of {epochs}: Train Loss = {epoch_loss:.4f} Val Loss = {val_loss_history[-1].cpu()}')\n",
        "  time2 = time.time()\n",
        "  print(f'Training Time: {time2 - time1} seconds')\n",
        "  return train_loss_history, val_loss_history"
      ],
      "metadata": {
        "id": "1ZJbV_Kzcb-4"
      },
      "execution_count": 128,
      "outputs": []
    },
    {
      "cell_type": "code",
      "source": [
        "def plot_loss(train_loss_history, val_loss_history):\n",
        "  x = [i * 100 for i in range(len(train_loss_history))]\n",
        "  if val_loss_history[0].device.type != 'cpu':\n",
        "    val_loss_history = [i.cpu() for i in val_loss_history]\n",
        "  plt.plot(x, train_loss_history, label='Train Loss')\n",
        "  plt.legend()\n",
        "  plt.show()\n",
        "  plt.plot(x, val_loss_history, label='Val Loss')\n",
        "  plt.legend()\n",
        "  plt.show()"
      ],
      "metadata": {
        "id": "V_e9FpZsc81S"
      },
      "execution_count": 125,
      "outputs": []
    },
    {
      "cell_type": "markdown",
      "source": [
        "# CPU Training"
      ],
      "metadata": {
        "id": "uNo6M7aVdjyH"
      }
    },
    {
      "cell_type": "code",
      "source": [
        "criterion = nn.MSELoss()"
      ],
      "metadata": {
        "id": "nSdOErSeZese"
      },
      "execution_count": 80,
      "outputs": []
    },
    {
      "cell_type": "code",
      "source": [
        "model_1 = SimpleNN(90, 3, 360, 180, 45)\n",
        "optimizer_1 = torch.optim.Adam(model_1.parameters(), lr=0.001)"
      ],
      "metadata": {
        "id": "DFIfMtNndeD_"
      },
      "execution_count": 142,
      "outputs": []
    },
    {
      "cell_type": "code",
      "source": [
        "history_train, history_val = train_model(model_1, optimizer_1, criterion, 4000, train_loader, test_loader)"
      ],
      "metadata": {
        "colab": {
          "base_uri": "https://localhost:8080/"
        },
        "id": "wOAEaQj4dk01",
        "outputId": "c9c3ba6c-357c-4d53-ccd2-119d386988ca"
      },
      "execution_count": 143,
      "outputs": [
        {
          "output_type": "stream",
          "name": "stdout",
          "text": [
            "Epoch 500 of 4000: Train Loss = 1211.6447 Val Loss = 173.89720153808594\n",
            "Epoch 1000 of 4000: Train Loss = 388.9481 Val Loss = 1083433.75\n",
            "Epoch 1500 of 4000: Train Loss = 333.6525 Val Loss = 5698186.0\n",
            "Epoch 2000 of 4000: Train Loss = 237.6855 Val Loss = 36681380.0\n",
            "Epoch 2500 of 4000: Train Loss = 212.3737 Val Loss = 50587596.0\n",
            "Epoch 3000 of 4000: Train Loss = 84.9097 Val Loss = 95401824.0\n",
            "Epoch 3500 of 4000: Train Loss = 113.1331 Val Loss = 94077840.0\n",
            "Epoch 4000 of 4000: Train Loss = 90.2641 Val Loss = 102883664.0\n",
            "Training Time: 417.52784061431885 seconds\n"
          ]
        }
      ]
    },
    {
      "cell_type": "code",
      "source": [
        "plot_loss(history_train, history_val)"
      ],
      "metadata": {
        "colab": {
          "base_uri": "https://localhost:8080/",
          "height": 858
        },
        "id": "BQS1t7IKd29d",
        "outputId": "c67dc708-828f-4bb7-d8a1-627313e84273"
      },
      "execution_count": 145,
      "outputs": [
        {
          "output_type": "display_data",
          "data": {
            "text/plain": [
              "<Figure size 640x480 with 1 Axes>"
            ],
            "image/png": "[encoded data removed]"
          },
          "metadata": {}
        },
        {
          "output_type": "display_data",
          "data": {
            "text/plain": [
              "<Figure size 640x480 with 1 Axes>"
            ],
            "image/png": "[encoded data removed]"
          },
          "metadata": {}
        }
      ]
    },
    {
      "cell_type": "markdown",
      "source": [
        "# GPU Training"
      ],
      "metadata": {
        "id": "6Le1J58veyDP"
      }
    },
    {
      "cell_type": "code",
      "source": [
        "device"
      ],
      "metadata": {
        "colab": {
          "base_uri": "https://localhost:8080/"
        },
        "id": "wLlm0ZjRf8MG",
        "outputId": "c0c49754-507e-4548-f0ba-1889c4272aa6"
      },
      "execution_count": 87,
      "outputs": [
        {
          "output_type": "execute_result",
          "data": {
            "text/plain": [
              "device(type='cuda')"
            ]
          },
          "metadata": {},
          "execution_count": 87
        }
      ]
    },
    {
      "cell_type": "code",
      "source": [
        "model_2 = SimpleNN(90, 3, 360, 180, 45)\n",
        "optimizer_2 = torch.optim.Adam(model_2.parameters(), lr=0.001)\n",
        "model_2.to(device)"
      ],
      "metadata": {
        "colab": {
          "base_uri": "https://localhost:8080/"
        },
        "id": "hluFg6r2ezCL",
        "outputId": "79898b76-69fc-425b-c4ea-1c018d5a325f"
      },
      "execution_count": 146,
      "outputs": [
        {
          "output_type": "execute_result",
          "data": {
            "text/plain": [
              "SimpleNN(\n",
              "  (relu): ReLU()\n",
              "  (layers): ModuleList(\n",
              "    (0): Linear(in_features=90, out_features=360, bias=True)\n",
              "    (1): Linear(in_features=360, out_features=180, bias=True)\n",
              "    (2): Linear(in_features=180, out_features=45, bias=True)\n",
              "    (3): Linear(in_features=45, out_features=3, bias=True)\n",
              "  )\n",
              ")"
            ]
          },
          "metadata": {},
          "execution_count": 146
        }
      ]
    },
    {
      "cell_type": "code",
      "source": [
        "history_train, history_val = train_model(model_2, optimizer_2, criterion, 4000, train_loader, test_loader, device)"
      ],
      "metadata": {
        "colab": {
          "base_uri": "https://localhost:8080/"
        },
        "id": "crp4FZrsfsys",
        "outputId": "7c6e6c39-2181-40eb-f5b0-23aa92e90c5f"
      },
      "execution_count": 147,
      "outputs": [
        {
          "output_type": "stream",
          "name": "stdout",
          "text": [
            "Epoch 500 of 4000: Train Loss = 1841.5586 Val Loss = 5896.9892578125\n",
            "Epoch 1000 of 4000: Train Loss = 395.9438 Val Loss = 3969.282470703125\n",
            "Epoch 1500 of 4000: Train Loss = 153.0907 Val Loss = 21029.287109375\n",
            "Epoch 2000 of 4000: Train Loss = 92.3341 Val Loss = 1520521.75\n",
            "Epoch 2500 of 4000: Train Loss = 92.8736 Val Loss = 5257683.5\n",
            "Epoch 3000 of 4000: Train Loss = 98.3946 Val Loss = 17927448.0\n",
            "Epoch 3500 of 4000: Train Loss = 93.9060 Val Loss = 56663936.0\n",
            "Epoch 4000 of 4000: Train Loss = 52.8637 Val Loss = 83212944.0\n",
            "Training Time: 251.1725754737854 seconds\n"
          ]
        }
      ]
    },
    {
      "cell_type": "code",
      "source": [
        "plot_loss(history_train, history_val)"
      ],
      "metadata": {
        "colab": {
          "base_uri": "https://localhost:8080/",
          "height": 858
        },
        "id": "AWLLyt3Tgopr",
        "outputId": "316b0ef6-0be6-4f74-f3c0-a50f1e94e95b"
      },
      "execution_count": 148,
      "outputs": [
        {
          "output_type": "display_data",
          "data": {
            "text/plain": [
              "<Figure size 640x480 with 1 Axes>"
            ],
            "image/png": "[encoded data removed]"
          },
          "metadata": {}
        },
        {
          "output_type": "display_data",
          "data": {
            "text/plain": [
              "<Figure size 640x480 with 1 Axes>"
            ],
            "image/png": "[encoded data removed]"
          },
          "metadata": {}
        }
      ]
    }
  ]
}